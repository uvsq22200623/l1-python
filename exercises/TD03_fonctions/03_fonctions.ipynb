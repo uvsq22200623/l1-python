{
 "cells": [
  {
   "cell_type": "markdown",
   "metadata": {},
   "source": [
    "# Instructions Générales\n",
    "\n",
    "Ce TD est à faire en créant un fichier td3.py, que vous éditerez dans VSCode. \n",
    "Vous ne remplirez pas les cellules de ce notebook, mais vous les copierez au fur et à mesure \n",
    "dans votre fichier pour les compléter.\n",
    "\n",
    "Vous respecterez au mieux les règles d'écriture de code, en particulier chaque fonction devra avoir un **docstring** et des commentaires si nécessaire et les noms de variable seront illustratifs de leur usage. Vous utiliserez les outils de débogage (flake8, mypy, debugger, pythontutor ...) pour corriger vos bogues."
   ]
  },
  {
   "cell_type": "markdown",
   "metadata": {},
   "source": [
    "# Gestion du temps\n",
    "\n",
    "Nous allons créer un petit logiciel de gestion du temps et des dates.\n",
    "Pour cela nous aurons besoin de créer un certain nombre de fonctions utilitaires.\n",
    "\n",
    "Un temps a le format suivant: (jour: int, heure: int, minute: int, seconde: int).\n",
    "C'est un tuple de 4 éléments. Par exemple (4, 3, 13, 20) correspond à 4 jours, 3 heures, 13 minutes et 20 secondes.\n",
    "Si on a une variable temps = (4, 3, 13, 20), pour accéder au premier élément on fait temps\\[0\\] ce qui donne 4,\n",
    "le nombre de jours.\n",
    "\n",
    "Créer la fonction qui prend comme argument le temps et renvoie le nombre de seconde total correspondant à ce temps.\n",
    "Créer la fonction qui prend un nombre de secondes et renvoie le temps correspondant."
   ]
  },
  {
   "cell_type": "code",
   "execution_count": 2,
   "metadata": {},
   "outputs": [
    {
     "name": "stdout",
     "output_type": "stream",
     "text": [
      "<class 'tuple'>\n",
      "342094\n",
      "0 jours 1 heures 3 minutes 46 secondes\n"
     ]
    }
   ],
   "source": [
    "#Programme 1\n",
    "#temps[0] : jours, temps[1]: heures, temps[2]: minutes, temps[3]: secondes\n",
    "\n",
    "def tempsEnSeconde(temps):\n",
    "    \"\"\" Renvoie la valeur en seconde de temps donné comme jour, heure, minute, seconde.\"\"\"\n",
    "    nb_seconde_total = temps[0] * 24 * 3600 + temps[1] * 3600 + temps[2] * 60 + temps[3]\n",
    "    return nb_seconde_total\n",
    "\n",
    "temps = (3,23,1,34)\n",
    "print(type(temps))\n",
    "print(tempsEnSeconde(temps))   \n",
    "\n",
    "def secondeEnTemps(seconde):\n",
    "    \"\"\"Renvoie le temps (jour, heure, minute, seconde) qui correspond au nombre de seconde passé en argument\"\"\"\n",
    "    temps_0 = seconde // (365 * 24 * 3600)\n",
    "    temps_1 = seconde // (24 * 3600) - (temps_0 * 365)\n",
    "    temps_2 =  seconde // 3600 - (temps_0 * 361 * 24 + temps_1 * 24)\n",
    "    temps_3 = seconde // 60 - (temps_0 * 365 * 24* 60 + temps_1 * 1440 + temps_2 * 60)\n",
    "    temps_4 = seconde - (temps_0 * 365 * 24 * 3600 + temps_1 * 86400 + temps_2 * 3600 + temps_3 * 60)\n",
    "    return temps_0, temps_1, temps_2, temps_3, temps_4\n",
    "    \n",
    "temps = secondeEnTemps(100000)\n",
    "print(temps[0],\"jours\",temps[1],\"heures\",temps[2],\"minutes\",temps[3],\"secondes\")"
   ]
  },
  {
   "cell_type": "markdown",
   "metadata": {},
   "source": [
    "Créer une fonction d'affichage d'un temps `afficheTemps`. Attention, les mots jour, heure et seconde doivent être au pluriel s'il y en a plusieurs. S'il y en a zéro, ils ne doivent pas apparaître.\n",
    "`print(message, end=\"\")` permet de ne pas sauter une ligne après un print. \n",
    "Vous pouvez écrire une fonction qui affiche un mot au pluriel ou non, appelée ensuite plusieurs fois par `afficheTemps` pour simplifier votre code.\n"
   ]
  },
  {
   "cell_type": "code",
   "execution_count": 5,
   "metadata": {},
   "outputs": [
    {
     "name": "stdout",
     "output_type": "stream",
     "text": [
      "2 jours  3 heures  10 minutes  "
     ]
    }
   ],
   "source": [
    "#fonction auxiliaire ici\n",
    "#Programme 2\n",
    "\n",
    "#fonction auxiliaire ici\n",
    "def mot_pluriel(x):\n",
    "    x += \"s\"\n",
    "    return x \n",
    "\n",
    "\n",
    "\n",
    "def afficheTemps(temps):\n",
    "    temps_0 = temps[0]\n",
    "    temps_1 = temps[1]\n",
    "    temps_2 = temps[2]\n",
    "    temps_3 = temps[3]\n",
    "    temps_4 = temps[4]\n",
    "    if temps_0 > 1:\n",
    "        print(temps_0, mot_pluriel(\"an\"), \" \", end = \"\")\n",
    "    elif temps_0 == 1:\n",
    "        print(temps_0, \"an\", \" \", end = \"\")\n",
    "    else:\n",
    "        print(\"\", end = \"\")\n",
    "    if temps_1 > 1:\n",
    "        print(temps_1, mot_pluriel(\"jour\"), \" \", end = \"\")\n",
    "    elif temps_1 == 1:\n",
    "        print(temps_1, \"jour\", \" \", end = \"\")\n",
    "    else:\n",
    "        print(\"\", end = \"\")\n",
    "    \n",
    "    if temps_2 > 1:\n",
    "        print(temps_2, mot_pluriel(\"heure\"), \" \", end = \"\")\n",
    "    elif temps_2 == 1:\n",
    "        print(temps_2, \"heure\", \" \", end = \"\")\n",
    "    else:\n",
    "        print(\"\", end = \"\")\n",
    "\n",
    "    if temps_3 > 1:\n",
    "        print(temps_3, mot_pluriel(\"minute\"), \" \", end = \"\")\n",
    "    elif temps_3 == 1:\n",
    "        print(temps_3, \"minute\", \" \", end = \"\")\n",
    "    else:\n",
    "        print(\"\", end = \"\")\n",
    "\n",
    "    if temps_4 > 1:\n",
    "        print(temps_4, mot_pluriel(\"seconde\"), \" \",  end = \"\")\n",
    "    elif temps_4 == 1:\n",
    "        print(temps_4, \"seconde\", \" \", end = \"\")\n",
    "    else:\n",
    "        print(\"\", end = \"\") \n",
    "    \n",
    "afficheTemps((2, 3, 10, 0, 1))  "
   ]
  },
  {
   "cell_type": "markdown",
   "metadata": {},
   "source": [
    "Ecrire une fonction qui demande à l'utilisateur de rentrer un nombre de jours, d'heures, de minutes et\n",
    "de secondes et qui renvoie un temps. Attention, si l'entrée utilisateur n'est pas correcte, par exemple 80 minutes,\n",
    "afficher un message d'erreur et s'arrêter.\n",
    "\n",
    "(Optionnel) Au lieu d'arêter le programme, demander de rentrer une nouvelle valeur, tant que \n",
    "ce n'est pas une valeur correcte."
   ]
  },
  {
   "cell_type": "code",
   "execution_count": 6,
   "metadata": {},
   "outputs": [
    {
     "name": "stdout",
     "output_type": "stream",
     "text": [
      "23 jours  17 heures  56 minutes  33 secondes  "
     ]
    }
   ],
   "source": [
    "# Programme 3\n",
    "\n",
    "def demandeTemps():\n",
    "    '''Fonction qui demande à l'utilisateur de rentrer un nombre de jours, d'heures, de minutes et\n",
    "de secondes.'''\n",
    "    temps_utilisateur_0 = int(input(\"Entrez un jour\"))\n",
    "    temps_utilisateur_1 = int(input(\"Entrez une heure\"))\n",
    "    temps_utilisateur_2 = int(input(\"Entrez une minute\"))\n",
    "    temps_utilisateur_3 = int(input(\"Entrez une seconde\"))\n",
    "    while temps_utilisateur_1 > 24 or temps_utilisateur_2 > 60 or temps_utilisateur_3 > 60:\n",
    "        print(\"Les valeurs saisies ne sont pas correcte, entrez de nouvelles valeurs sous la même forme.\")\n",
    "        temps_utilisateur_0 = int(input(\"Entrez un jour\"))\n",
    "        temps_utilisateur_1 = int(input(\"Entrez une heure\"))\n",
    "        temps_utilisateur_2 = int(input(\"Entrez une minute\"))\n",
    "        temps_utilisateur_3 = int(input(\"Entrez une seconde\"))\n",
    "    return temps_utilisateur_0, temps_utilisateur_1, temps_utilisateur_2, temps_utilisateur_3\n",
    "\n",
    "afficheTemps(demandeTemps())\n",
    "\n",
    "\n"
   ]
  },
  {
   "cell_type": "markdown",
   "metadata": {},
   "source": [
    "On veut être capable d'additionner deux temps. Donner une fonction qui fait ce calcul,\n",
    "en utilisant les fonctions précédentes."
   ]
  },
  {
   "cell_type": "code",
   "execution_count": 7,
   "metadata": {},
   "outputs": [
    {
     "name": "stdout",
     "output_type": "stream",
     "text": [
      "8 heures  2 minutes  1 seconde  "
     ]
    }
   ],
   "source": [
    "#Programme 4\n",
    "def sommeTemps(temps1,temps2):\n",
    "    sommeTempsEnSeconde = tempsEnSeconde(temps1) + tempsEnSeconde(temps2)\n",
    "    sommeSecondeEnTemps = secondeEnTemps(sommeTempsEnSeconde) \n",
    "    afficheTemps(sommeSecondeEnTemps)\n",
    "\n",
    "sommeTemps((2,3,4,25),(5,22,57,1))"
   ]
  },
  {
   "cell_type": "markdown",
   "metadata": {},
   "source": [
    "On veut maintenant calculer un pourcentage d'un temps. Par exemple, 20% de\n",
    "2 jours et 36 minutes correspond à 9 heures, 43 minutes et 12 secondes.\n",
    "\n",
    "Implémenter la fonction `proportionTemps` puis appeler cette fonction en échangeant l'ordre des arguments mais en les nommant."
   ]
  },
  {
   "cell_type": "code",
   "execution_count": 8,
   "metadata": {},
   "outputs": [
    {
     "name": "stdout",
     "output_type": "stream",
     "text": [
      "9.0 minutes  43.0 secondes  "
     ]
    }
   ],
   "source": [
    "#Programme 5\n",
    "def proportionTemps(temps,proportion):\n",
    "    proportionSeconde = tempsEnSeconde(temps) * proportion\n",
    "    return secondeEnTemps(proportionSeconde)\n",
    "\n",
    "afficheTemps(proportionTemps(proportion = 0.2, temps = (2,0,36,0)))\n",
    "#appeler la fonction en échangeant l'ordre des arguments"
   ]
  },
  {
   "cell_type": "markdown",
   "metadata": {},
   "source": [
    "On veut maintenant afficher un temps sous forme de date, en supposant \n",
    "que le temps 0 est le 1 janvier 1970 à 00:00:00.\n",
    "\n",
    "* Implémenter une fonction `tempsEnDate`qui donne la date sous la forme (année, jour, heure, minute, seconde).\n",
    "* Implémenter la fonction `afficheDate`qui affiche la date. \n",
    "* (Optionnel) Gérer également les mois."
   ]
  },
  {
   "cell_type": "code",
   "execution_count": 17,
   "metadata": {},
   "outputs": [
    {
     "name": "stdout",
     "output_type": "stream",
     "text": [
      "31 ans  259 jours  1 heure  46 minutes  40 secondes  "
     ]
    }
   ],
   "source": [
    "\n",
    "def afficheTemps(temps):\n",
    "    temps_0 = temps[0]\n",
    "    temps_1 = temps[1]\n",
    "    temps_2 = temps[2]\n",
    "    temps_3 = temps[3]\n",
    "    temps_4 = temps[4]\n",
    "    if temps_0 > 1:\n",
    "        print(temps_0, mot_pluriel(\"an\"), \" \", end = \"\")\n",
    "    elif temps_0 == 1:\n",
    "        print(temps_0, \"an\", \" \", end = \"\")\n",
    "    else:\n",
    "        print(\"\", end = \"\")\n",
    "    if temps_1 > 1:\n",
    "        print(temps_1, mot_pluriel(\"jour\"), \" \", end = \"\")\n",
    "    elif temps_1 == 1:\n",
    "        print(temps_1, \"jour\", \" \", end = \"\")\n",
    "    else:\n",
    "        print(\"\", end = \"\")\n",
    "    \n",
    "    if temps_2 > 1:\n",
    "        print(temps_2, mot_pluriel(\"heure\"), \" \", end = \"\")\n",
    "    elif temps_2 == 1:\n",
    "        print(temps_2, \"heure\", \" \", end = \"\")\n",
    "    else:\n",
    "        print(\"\", end = \"\")\n",
    "\n",
    "    if temps_3 > 1:\n",
    "        print(temps_3, mot_pluriel(\"minute\"), \" \", end = \"\")\n",
    "    elif temps_3 == 1:\n",
    "        print(temps_3, \"minute\", \" \", end = \"\")\n",
    "    else:\n",
    "        print(\"\", end = \"\")\n",
    "\n",
    "    if temps_4 > 1:\n",
    "        print(temps_4, mot_pluriel(\"seconde\"), \" \",  end = \"\")\n",
    "    elif temps_4 == 1:\n",
    "        print(temps_4, \"seconde\", \" \", end = \"\")\n",
    "    else:\n",
    "        print(\"\", end = \"\") \n",
    "def tempsEnSeconde(temps):\n",
    "    \"\"\" Renvoie la valeur en seconde de temps donné comme jour, heure, minute, seconde.\"\"\"\n",
    "    nb_seconde_total = temps[0] * 365 * 24 * 3600 + temps[1] * 24 * 3600 + temps[2] * 3600 + temps[3] * 60 + temps[4]\n",
    "    return nb_seconde_total\n",
    "\n",
    "def secondeEnTemps(seconde):\n",
    "    \"\"\"Renvoie le temps (année, jour, heure, minute, seconde) qui correspond au nombre de seconde passé en argument\"\"\"\n",
    "    temps_0 = seconde // (365 * 24 * 3600)\n",
    "    temps_1 = seconde // (24 * 3600) - (temps_0 * 365)\n",
    "    temps_2 =  seconde // 3600 - (temps_0 * 365 * 24 + temps_1 * 24)\n",
    "    temps_3 = seconde // 60 - (temps_0 * 365 * 24 * 60 + temps_1 * 1440 + temps_2 * 60)\n",
    "    temps_4 = seconde - (temps_0 * 365 * 24 * 3600 + temps_1 * 86400 + temps_2 * 3600 + temps_3 * 60)\n",
    "    return temps_0, temps_1, temps_2, temps_3, temps_4\n",
    "\n",
    "def tempsEnDate(temps):\n",
    "    tempsEnSeconde(temps)\n",
    "    return secondeEnTemps(tempsEnSeconde(temps))\n",
    "\n",
    "\n",
    "def afficheDate(temps):\n",
    "    return afficheTemps(tempsEnDate(temps))\n",
    "    \n",
    "temps = secondeEnTemps(1000000000)\n",
    "tempsEnDate(temps)\n",
    "afficheDate(temps)"
   ]
  },
  {
   "cell_type": "markdown",
   "metadata": {},
   "source": [
    "Il existe des fonctions dans la librairie `time` pour la gestion du temps. En particulier, il existe\n",
    "une fonction `time` qui donne le temps écoulé depuis 1970 en secondes. \n",
    "La trouver avec la [documentation python](https://docs.python.org/fr/3/library/time.html#module-time) et la tester en utilisant `afficheDate`. \n",
    "Tester de la même manière la fonction `time.gmtime` qui réalise une tâche similaire à `tempsEnDate`.\n",
    "Que constatez vous ?"
   ]
  },
  {
   "cell_type": "code",
   "execution_count": 58,
   "metadata": {},
   "outputs": [
    {
     "name": "stdout",
     "output_type": "stream",
     "text": [
      "1665310403.3218317\n",
      "52.0 ans  294.0 jours  10.0 heures  13.0 minutes  23.325237035751343 secondes  "
     ]
    }
   ],
   "source": [
    "#tester ici les fonctions de la librairie time\n",
    "\n",
    "from time import time \n",
    "def tempsEnDate(temps):\n",
    "    return secondeEnTemps(time())\n",
    "print(time())\n",
    "afficheDate(tempsEnDate(temps))"
   ]
  },
  {
   "cell_type": "markdown",
   "metadata": {},
   "source": [
    "Attention, tous les 4 ans les années sont bisextiles (un jour de plus) sauf les multiples de 100 qui ne sont pas des multiples de 400.\n",
    "Donner un code qui prend un nombre de jours et affiche toutes les années bisextiles depuis le 1er janvier 1970 à 00:00:00 jusqu'à la fin de ces jours."
   ]
  },
  {
   "cell_type": "code",
   "execution_count": 20,
   "metadata": {},
   "outputs": [
    {
     "name": "stdout",
     "output_type": "stream",
     "text": [
      "20000 jours correspond à 54 années\n",
      "Les années bisextilles entre 1 janvier 1970 et 1 janvier 2024 sont 1972 1976 1980 1984 1988 1992 1996 2000 2004 2008 2012 2016 2020 2024 "
     ]
    }
   ],
   "source": [
    "def bisextile(jour):\n",
    "    annee_0 = 1970\n",
    "    annee = jour // 365\n",
    "    print(jour, \"jours correspond à\", annee, \"années\")\n",
    "    print(\"Les années bisextilles entre 1 janvier 1970 et 1 janvier\", annee_0 + annee, \"sont\", end = \" \")\n",
    "    for i in range(1970, (1970 + annee + 1)):\n",
    "        if i % 4 == 0 or i % 100 != 0 and i % 400 == 0:\n",
    "            print(i, end = \" \")\n",
    "    \n",
    "        \n",
    "    \n",
    "        \n",
    "bisextile(20000)"
   ]
  },
  {
   "cell_type": "markdown",
   "metadata": {},
   "source": [
    "Implémenter une fonction `nombreBisextile` qui calcule le nombre d'années bisextiles entre le 1er janvier 1970 et le nombre de jour donnés.\n",
    "Utilisez-la pour implémenter une fonction `tempsEnDateBisextile` qui fait la même chose que `tempsEnDate` mais en prenant en compte les années bisextiles."
   ]
  },
  {
   "cell_type": "code",
   "execution_count": 65,
   "metadata": {},
   "outputs": [
    {
     "name": "stdout",
     "output_type": "stream",
     "text": [
      "52.0 ans  294.0 jours  10.0 heures  16.0 minutes  32.70604753494263 secondes  \n",
      "52.0 ans  294.0 jours  10.0 heures  16.0 minutes  32.711246490478516 secondes  "
     ]
    }
   ],
   "source": [
    "\n",
    "\n",
    "def nombreBisextile(jour):\n",
    "    annee_0 = 1970\n",
    "    annee = jour // 365\n",
    "    k = 0\n",
    "    for i in range(1970, (1970 + annee + 1)):\n",
    "        if i % 4 == 0 or i % 100 != 0 and i % 400 == 0:\n",
    "            k += 1\n",
    "    return k \n",
    "    \n",
    "\n",
    "    \n",
    "def tempsEnDateBisextile(temps):\n",
    "    jour = tempsEnSeconde(temps) // (24 * 3600)\n",
    "    print(\"le nombre de jour est\", jour)\n",
    "    print(\"le nombre d'année bisextile est\", nombreBisextile(jour))\n",
    "    seconde_nb_bisextile = (nombreBisextile(jour) * 24 * 3600) + tempsEnSeconde(temps)\n",
    "    return secondeEnTemps(seconde_nb_bisextile)\n",
    "    \n",
    "def afficheDate(temps):\n",
    "    return afficheTemps((temps))\n",
    "   \n",
    "temps = secondeEnTemps(time())\n",
    "\n",
    "afficheTemps(temps)\n",
    "print(\"\")\n",
    "afficheDate(secondeEnTemps(time()))"
   ]
  },
  {
   "cell_type": "markdown",
   "metadata": {},
   "source": [
    "Ajouter des valeurs par défaut dans le code de `afficheDate` afin de pouvoir ommettre\n",
    "l'argument de ces fonctions. Dans ce cas là, on affichera la date actuelle en utilisant la fonction `time`."
   ]
  },
  {
   "cell_type": "markdown",
   "metadata": {},
   "source": [
    "On va maintenant inspecter notre code pour améliorer sa qualité:\n",
    "\n",
    "* Regarder tous les warnings donnés par flake8 et essayer de les régler.\n",
    "* Utiliser le debugger (F5) pour étudier le fonctionnement de votre fonction nombreBisextile.\n",
    "* Mettre les annotations de type des arguments et du retour de la fonction pour nombreBisextile et une autre fonction de votre choix. Vérifier avec mypy que tout fonctionne bien."
   ]
  },
  {
   "cell_type": "markdown",
   "metadata": {},
   "source": [
    "Donner une fonction qui vérifie la charge horaire d'un employé, donnée sous forme d'une liste de temps travaillé chaque semaine dans un mois. Il ne faut pas dépasser 48h par semaine et 140h par mois (qu'on considère ici de 4 semaines).\n",
    "\n",
    "(Optionnel) S'adapter à une liste qui peut contenir plusieurs mois."
   ]
  },
  {
   "cell_type": "code",
   "execution_count": 73,
   "metadata": {},
   "outputs": [
    {
     "name": "stdout",
     "output_type": "stream",
     "text": [
      "La charge horaire de cet employé est correcte\n"
     ]
    }
   ],
   "source": [
    "def verifie(liste_temps):\n",
    "    liste_temps_total = liste_temps[0] + liste_temps[1] + liste_temps[2] + liste_temps[3]\n",
    "    jour_total = liste_temps_total[0] + liste_temps_total[4] + liste_temps_total[8] + liste_temps_total[12]\n",
    "    heure_total = liste_temps_total[1] + liste_temps_total[5] + liste_temps_total[9] + liste_temps_total[13]\n",
    "    minute_total = liste_temps_total[2] + liste_temps_total[6] + liste_temps_total[10] + liste_temps_total[14]\n",
    "    seconde_total = liste_temps_total[3] + liste_temps_total[7] + liste_temps_total[11] + liste_temps_total[15] \n",
    "    heure_par_mois = jour_total // 24 + heure_total + minute_total // 60 + seconde_total // 3600\n",
    "    heure_par_semaine = heure_par_mois // 4\n",
    "    \n",
    "    if heure_par_semaine <= 48 and heure_par_mois <= 140:\n",
    "        print(\"La charge horaire de cet employé est correcte\")\n",
    "    else:\n",
    "        print(\"La charge horaire de cette employé est trop élevée\")           \n",
    "\n",
    "\n",
    "liste_temps = [[1,2,39,34],[0,1,9,4],[0,29,39,51],[0,31,13,46]]\n",
    "verifie(liste_temps)"
   ]
  },
  {
   "cell_type": "code",
   "execution_count": null,
   "metadata": {},
   "outputs": [],
   "source": []
  }
 ],
 "metadata": {
  "kernelspec": {
   "display_name": "Python 3.9.13 ('base')",
   "language": "python",
   "name": "python3"
  },
  "language_info": {
   "codemirror_mode": {
    "name": "ipython",
    "version": 3
   },
   "file_extension": ".py",
   "mimetype": "text/x-python",
   "name": "python",
   "nbconvert_exporter": "python",
   "pygments_lexer": "ipython3",
   "version": "3.9.13"
  },
  "vscode": {
   "interpreter": {
    "hash": "7d6a2f910f3120818214ce2f32b4e8173aa196704add3801970501477204c05e"
   }
  }
 },
 "nbformat": 4,
 "nbformat_minor": 4
}
