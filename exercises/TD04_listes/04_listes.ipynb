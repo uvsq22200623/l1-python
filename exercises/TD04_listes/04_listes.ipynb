{
 "cells": [
  {
   "cell_type": "markdown",
   "metadata": {},
   "source": [
    "# TD 4: Listes"
   ]
  },
  {
   "cell_type": "markdown",
   "metadata": {},
   "source": [
    "---\n",
    "\n",
    "## 1. Débuts avec les listes\n",
    "\n",
    "Dans cette partie, il faut écrire les réponses directement dans le notebook. En plus du cours, n'hésitez pas à consulter la documentation (tutoriel) Python sur les listes [ici (introduction aux listes)](https://docs.python.org/fr/3.6/tutorial/introduction.html#lists) et [ici (complément sur les listes)] (https://docs.python.org/fr/3/tutorial/datastructures.html#more-on-lists).\n",
    "\n",
    "1. Créer la liste `3, 5, 10`, l'affecter à une variable, puis l'afficher."
   ]
  },
  {
   "cell_type": "code",
   "execution_count": 72,
   "metadata": {},
   "outputs": [
    {
     "name": "stdout",
     "output_type": "stream",
     "text": [
      "[3, 5, 10]\n"
     ]
    }
   ],
   "source": [
    "liste = [3,5,10]\n",
    "print(liste)"
   ]
  },
  {
   "cell_type": "markdown",
   "metadata": {},
   "source": [
    "2. Ajouter ensuite 12 et 17 à la fin puis afficher à nouveau la liste."
   ]
  },
  {
   "cell_type": "code",
   "execution_count": 73,
   "metadata": {},
   "outputs": [
    {
     "name": "stdout",
     "output_type": "stream",
     "text": [
      "[3, 5, 10, 12, 17]\n"
     ]
    }
   ],
   "source": [
    "liste.extend([12,17])\n",
    "print(liste)"
   ]
  },
  {
   "cell_type": "markdown",
   "metadata": {},
   "source": [
    "3. Changer le 10 en -7."
   ]
  },
  {
   "cell_type": "code",
   "execution_count": 74,
   "metadata": {},
   "outputs": [
    {
     "name": "stdout",
     "output_type": "stream",
     "text": [
      "[3, 5, -7, 12, 17]\n"
     ]
    },
    {
     "data": {
      "text/plain": [
       "'liste[list.index(10)] = -7'"
      ]
     },
     "execution_count": 74,
     "metadata": {},
     "output_type": "execute_result"
    }
   ],
   "source": [
    "liste[2] = -7\n",
    "print(liste)\n",
    "\"\"\"liste[list.index(10)] = -7\"\"\""
   ]
  },
  {
   "cell_type": "markdown",
   "metadata": {},
   "source": [
    "4. Avec une boucle `for`, écrire le double de chaque élément de la liste. Cela doit afficher `[6, 10, -14, 24, 34]`. La liste doit être modifiée."
   ]
  },
  {
   "cell_type": "code",
   "execution_count": 75,
   "metadata": {},
   "outputs": [
    {
     "name": "stdout",
     "output_type": "stream",
     "text": [
      "[6, 10, -14, 24, 34]\n"
     ]
    }
   ],
   "source": [
    "for i in range (len(liste)):\n",
    "    liste[i] *= 2\n",
    "print(liste)"
   ]
  },
  {
   "cell_type": "markdown",
   "metadata": {},
   "source": [
    "5. A l'aide d'une boucle `for`, ajouter  la valeur `i` à l'élément d'indice `i` de la liste. Cela doit afficher `[6, 11, -12, 27, 38]`. La liste doit être modifiée."
   ]
  },
  {
   "cell_type": "code",
   "execution_count": 76,
   "metadata": {},
   "outputs": [
    {
     "name": "stdout",
     "output_type": "stream",
     "text": [
      "[6, 11, -12, 27, 38]\n"
     ]
    }
   ],
   "source": [
    "for i in range (0, 5):\n",
    "    liste[i] += i\n",
    "print(liste)\n"
   ]
  },
  {
   "cell_type": "markdown",
   "metadata": {},
   "source": [
    "6. Tirer 10 nombres à 2 chiffres au hasard et les mettre dans une nouvelle liste (vide au départ), puis afficher la somme des entiers de la liste et le plus grand de ces entiers."
   ]
  },
  {
   "cell_type": "code",
   "execution_count": 83,
   "metadata": {},
   "outputs": [
    {
     "name": "stdout",
     "output_type": "stream",
     "text": [
      "[13, 42, 26, 81, 76, 38, 35, 24, 92, 59] la somme de ces entiers est 486 \n",
      " le nombre le plus grand est 92\n"
     ]
    }
   ],
   "source": [
    "import random\n",
    "liste = [random.randint(10,99) for i in range(10)]\n",
    "print(liste, \"la somme de ces entiers est\", sum(liste), \"\\n\", \"le nombre le plus grand est\", max(liste))\n",
    "    \n",
    "\n",
    "\n"
   ]
  },
  {
   "cell_type": "markdown",
   "metadata": {},
   "source": [
    "7. A partir de la liste choisie au hasard, créer une liste qui contient les éléments pairs et une deuxième liste qui contient les éléments impairs."
   ]
  },
  {
   "cell_type": "code",
   "execution_count": 82,
   "metadata": {},
   "outputs": [
    {
     "name": "stdout",
     "output_type": "stream",
     "text": [
      "[]\n",
      "liste des nombres pairs [] liste des nombres impairs []\n"
     ]
    }
   ],
   "source": [
    "import random\n",
    "liste_pair = []\n",
    "liste_impair = []\n",
    "print(liste)\n",
    "for i in range(0,10):\n",
    "    while liste != []:\n",
    "        nb = liste[i]\n",
    "        if liste[i] % 2 == 0:\n",
    "            liste_pair.append(nb)\n",
    "        else:\n",
    "            liste_impair.append(nb)\n",
    "        liste.remove(nb)\n",
    "\n",
    "print(\"liste des nombres pairs\", liste_pair, \"liste des nombres impairs\", liste_impair)\n",
    "\n",
    "\n",
    "\n",
    "\n",
    "\n",
    "\n",
    "    \n"
   ]
  },
  {
   "cell_type": "markdown",
   "metadata": {},
   "source": [
    "8. Trier la liste choisie au hasard par ordre croissant en modifiant la liste."
   ]
  },
  {
   "cell_type": "code",
   "execution_count": 84,
   "metadata": {},
   "outputs": [
    {
     "name": "stdout",
     "output_type": "stream",
     "text": [
      "[13, 42, 26, 81, 76, 38, 35, 24, 92, 59]\n",
      "[13, 24, 26, 35, 38, 42, 59, 76, 81, 92]\n"
     ]
    }
   ],
   "source": [
    "print(liste)\n",
    "liste.sort()\n",
    "print(liste)\n",
    "\n",
    "    \n",
    "\n",
    "\n"
   ]
  },
  {
   "cell_type": "markdown",
   "metadata": {},
   "source": [
    "9. Supprimer le plus petit et le plus grand élément de la liste triée."
   ]
  },
  {
   "cell_type": "code",
   "execution_count": 85,
   "metadata": {},
   "outputs": [
    {
     "name": "stdout",
     "output_type": "stream",
     "text": [
      "[24, 26, 35, 38, 42, 59, 76, 81]\n"
     ]
    },
    {
     "data": {
      "text/plain": [
       "'del liste[0]\\ndel liste[-1]'"
      ]
     },
     "execution_count": 85,
     "metadata": {},
     "output_type": "execute_result"
    }
   ],
   "source": [
    "liste.remove(min(liste))\n",
    "liste.remove(max(liste))\n",
    "print(liste)\n",
    "\"\"\"del liste[0]\n",
    "del liste[-1]\"\"\"\n"
   ]
  },
  {
   "cell_type": "markdown",
   "metadata": {},
   "source": [
    "10. Créer la liste des entiers de 1 jusqu'à 52. Ces entiers représentent les cartes d'un paquet de 52 cartes."
   ]
  },
  {
   "cell_type": "code",
   "execution_count": 87,
   "metadata": {},
   "outputs": [
    {
     "name": "stdout",
     "output_type": "stream",
     "text": [
      "[1, 2, 3, 4, 5, 6, 7, 8, 9, 10, 11, 12, 13, 14, 15, 16, 17, 18, 19, 20, 21, 22, 23, 24, 25, 26, 27, 28, 29, 30, 31, 32, 33, 34, 35, 36, 37, 38, 39, 40, 41, 42, 43, 44, 45, 46, 47, 48, 49, 50, 51, 52]\n"
     ]
    }
   ],
   "source": [
    "paquet = [i for i in range(1, 53)]\n",
    "print(paquet)\n",
    "\n",
    "\"\"\"paquet = list(range(1,53))\"\"\"\n"
   ]
  },
  {
   "cell_type": "markdown",
   "metadata": {},
   "source": [
    " 11. Couper le jeu de carte revient à choisir un indice `i` entre 0 et 51, et à passer toutes les cartes allant des indices 0 à i-1 à la suite des cartes qui vont des indices i à 51. Ecrire le code qui effectue une coupe choisie au hasard."
   ]
  },
  {
   "cell_type": "code",
   "execution_count": 93,
   "metadata": {},
   "outputs": [
    {
     "name": "stdout",
     "output_type": "stream",
     "text": [
      "[3, 7, 11, 15, 19, 23, 25, 27, 29, 31, 33, 35, 37, 39, 41, 43, 45, 47, 49, 51, 1, 5, 9, 13, 17, 21, 2, 6, 10, 14, 18, 22, 26, 30, 34, 38, 42, 46, 50, 4, 8, 12, 16, 20, 24, 28, 32, 36, 40, 44, 48, 52]\n"
     ]
    },
    {
     "data": {
      "text/plain": [
       "'paquet = (2 * paquet)[coupe: coupe + 52]\\nprint(paquet)'"
      ]
     },
     "execution_count": 93,
     "metadata": {},
     "output_type": "execute_result"
    }
   ],
   "source": [
    "import random\n",
    "i = random.randint(0, 51)\n",
    "print(\"La coupe se situe à\", i)\n",
    "coupe_1 = paquet[0:i - 1]\n",
    "coupe_2 = paquet[i:52]\n",
    "print(\"coupe1 =\", coupe_1, \"coupe2 =\", coupe_2)\n",
    "paquet_2 = coupe_2 + coupe_1\n",
    "print(\"\")\n",
    "print(paquet_2)\n",
    "\n",
    "\"\"\"coupe = random.randint(0, 51)\n",
    "for i in range(coupe):\n",
    "    paquet.append(paquet[i])\n",
    "    del paquet[i]\"\"\"\n",
    "\n",
    "\"\"\"paquet_2 = []\n",
    "for i in range(coupe, 52):\n",
    "    paquet_2.append(paquet[i])\n",
    "for i in range(coupe):\n",
    "    paquet_2.append(paquet[i])\n",
    "print(paquet_2)\"\"\"\n",
    "\"\"\"paquet = (paquet + paquet[0:coupe])[coupe:]\"\"\"\n",
    "\"\"\"paquet = (2 * paquet)[coupe: coupe + 52]\n",
    "print(paquet)\"\"\"\n"
   ]
  },
  {
   "cell_type": "markdown",
   "metadata": {},
   "source": [
    "---\n",
    "\n",
    "## 2. Problème de Syracuse\n",
    "\n",
    "Cette partie est à traiter dans un script que vous pouvez appeler, par exemple, `syracuse.py`.\n",
    "\n",
    "En partant d'un entier `n` de départ, on définit une suite d'entiers en obtenant chaque nouveau terme à partir du précédent soit en le divisant par 2 s'il est pair, soit en le multipliant par 3 et en ajoutant 1 s'il est impair. \n",
    "\n",
    "1. Sans écrire de programme, calculer les premières valeurs de la suite en chosissant `n = 3`.\n",
    "\n",
    "2. Ecrire la fonction qui, à partir d'un entier initial, renvoie la liste des valeurs successives jusqu'à ce que la valeur `1` soit atteinte (le dernier élément de la liste est donc toujours 1)."
   ]
  },
  {
   "cell_type": "code",
   "execution_count": 94,
   "metadata": {},
   "outputs": [
    {
     "name": "stdout",
     "output_type": "stream",
     "text": [
      "[1]\n"
     ]
    }
   ],
   "source": [
    "def syracuse(n):\n",
    "    \"\"\" Retourne la liste des valeurs de la suite en partant de n jusqu'à 1 \"\"\"\n",
    "    L = [n]\n",
    "    i = 0\n",
    "    while L[i] != 1:\n",
    "        if L[i] % 2 == 0:\n",
    "            L.append(L[i] / 2)\n",
    "        else:\n",
    "            L.append(L[i] * 3 + 1)\n",
    "        i += 1\n",
    "    return L \n",
    "        \n",
    "        \n",
    "\n",
    "print(syracuse(1))"
   ]
  },
  {
   "cell_type": "markdown",
   "metadata": {},
   "source": [
    "3. La conjecture de Collatz (ou problème de Syracuse) affirme que, quel que soit l’entier `n` que l’on choisisse au départ, on finit toujours par arriver à 1 (ce résultat est une *conjecture*, c'est-à-dire qu'il n'a pas été démontré, mais qu'il n'existe pas de contre-exemple connu). Écrire une fonction qui, en appelant la fonction précédente, va vérifier si la conjecture est vraie pour `n` de 1 à `n_max`, où `n_max` est un paramètre de la fonction. \n",
    "\n",
    "*Remarque*: si tout se passe bien, la fonction doit juste se terminer et renvoyer `True` par exemple. Sinon, c’est qu’on sera entré dans une boucle infinie."
   ]
  },
  {
   "cell_type": "code",
   "execution_count": 99,
   "metadata": {
    "tags": []
   },
   "outputs": [
    {
     "name": "stdout",
     "output_type": "stream",
     "text": [
      "True\n"
     ]
    }
   ],
   "source": [
    "def testeConjecture(n_max):\n",
    "    \"\"\" Teste la conjecture de Collatz pour toutes les valeurs de 1 à n_max \"\"\"\n",
    "    for i in range(1, n_max + 1):\n",
    "        syracuse(i)\n",
    "    return True\n",
    "\n",
    "print(testeConjecture(234))\n",
    "\n"
   ]
  },
  {
   "cell_type": "markdown",
   "metadata": {},
   "source": [
    "4. On appelle *temps de vol* de l’entier `n` le nombre d’étapes pour aller de `n` jusqu’à 1. Le temps de vol de 1 est 0, le temps de vol de 3 est 7. Écrire une fonction qui, étant donné un paramètre `n`, renvoie son temps de vol."
   ]
  },
  {
   "cell_type": "code",
   "execution_count": 100,
   "metadata": {},
   "outputs": [
    {
     "name": "stdout",
     "output_type": "stream",
     "text": [
      "Le temps de vol de 3 est 7\n"
     ]
    }
   ],
   "source": [
    "def tempsVol(n):\n",
    "    \"\"\" Retourne le temps de vol de n \"\"\"\n",
    "    return len(syracuse(n)) - 1\n",
    "\n",
    "print(\"Le temps de vol de\", 3, \"est\", tempsVol(3))"
   ]
  },
  {
   "cell_type": "markdown",
   "metadata": {},
   "source": [
    "5. Ecrire une fonction qui, étant donné un paramètre `n_max` renvoie la liste des temps de vol de tous les entiers de 1 à `n_max`. *Indication*: utiliser une liste en compréhension."
   ]
  },
  {
   "cell_type": "code",
   "execution_count": 101,
   "metadata": {},
   "outputs": [
    {
     "name": "stdout",
     "output_type": "stream",
     "text": [
      "[0, 1, 7, 2, 5, 8, 16, 3, 19, 6, 14, 9, 9, 17, 17, 4, 12, 20, 20, 7, 7, 15, 15, 10, 23, 10, 111, 18, 18, 18, 106, 5, 26, 13, 13, 21, 21, 21, 34, 8, 109, 8, 29, 16, 16, 16, 104, 11, 24, 24, 24, 11, 11, 112, 112, 19, 32, 19, 32, 19, 19, 107, 107, 6, 27, 27, 27, 14, 14, 14, 102, 22, 115, 22, 14, 22, 22, 35, 35, 9, 22, 110, 110, 9, 9, 30, 30, 17, 30, 17, 92, 17, 17, 105, 105, 12, 118, 25, 25, 25]\n"
     ]
    }
   ],
   "source": [
    "def tempsVolListe(n_max):\n",
    "    \"\"\" Retourne la liste de tous les temps de vol de 1 à n_max \"\"\"\n",
    "    return [tempsVol(i) for i in range (1, n_max + 1)]\n",
    "\n",
    "\n",
    "\n",
    "print(tempsVolListe(100))"
   ]
  },
  {
   "cell_type": "markdown",
   "metadata": {},
   "source": [
    "6. Déterminer quel entier entre 1 et 10000 a le plus grand temps de vol (réponse 6171 qui a le temps de vol 261)."
   ]
  },
  {
   "cell_type": "code",
   "execution_count": 102,
   "metadata": {},
   "outputs": [
    {
     "name": "stdout",
     "output_type": "stream",
     "text": [
      "le temps de vol maximum entre 1 et 10000 est de 261\n",
      "L'entier correspondant est 6171\n"
     ]
    }
   ],
   "source": [
    "tempsVolListe_max = max(tempsVolListe(10000))\n",
    "print(\"le temps de vol maximum entre 1 et 10000 est de\", tempsVolListe_max)\n",
    "\n",
    "n = 1\n",
    "#Le + 1 permet de rajouter le nombre initial dans le temps de vol afin de correspondre à len(syracuse(n))\n",
    "while len(syracuse(n)) != tempsVolListe_max + 1:\n",
    "    n += 1\n",
    "    \n",
    "print(\"L'entier correspondant est\", n)\n",
    "\n",
    "\n",
    "\n",
    "\n",
    "\n"
   ]
  },
  {
   "cell_type": "markdown",
   "metadata": {},
   "source": [
    "7. L’altitude maximale de l'entier `n` est la plus grande valeur par laquelle passe `n` au cours de son vol. Déterminer quel entier entre 1 et 10000 a la plus grande altitude maximale (réponse 27114424, atteint par l'entier 9663). Ne pas hésiter à écrire de nouvelles fonctions pour cela."
   ]
  },
  {
   "cell_type": "code",
   "execution_count": null,
   "metadata": {},
   "outputs": [
    {
     "name": "stdout",
     "output_type": "stream",
     "text": [
      "L'altitude maximum entre 1 et 10000 est 27114424.0\n",
      "L'entier ayant la plus grande altitude maximale entre 1 et 10000 est 9663\n"
     ]
    }
   ],
   "source": [
    "n = 1\n",
    "L = [max(syracuse(i)) for i in range (1, 10001)]\n",
    "altitudeMax = max(L)\n",
    "print(\"L'altitude maximum entre 1 et 10000 est\", altitudeMax)\n",
    "#L'itération çi-dessous permet de trouver un n qui a altitudeMax comme valeur\n",
    "for i in range (100000):\n",
    "        if max(syracuse(n)) != altitudeMax:\n",
    "            n += 1\n",
    "        else: break\n",
    "        \n",
    "print(\"L'entier ayant la plus grande altitude maximale entre 1 et 10000 est\", n)\n",
    "\n",
    "    "
   ]
  },
  {
   "cell_type": "markdown",
   "metadata": {},
   "source": [
    "---\n",
    "\n",
    "## 3. Carré magique\n",
    "\n",
    "*Définition* extraite de [l'article Wikipedia sur le carré magique](https://fr.wikipedia.org/wiki/Carr%C3%A9_magique_(math%C3%A9matiques)): en mathématiques, un carré magique d’ordre $n$ est composé de $n^2$ entiers strictement positifs, écrits sous la forme d’un tableau carré. Ces nombres sont disposés de sorte que leurs sommes sur chaque rangée, sur chaque colonne et sur chaque diagonale principale soient égales. On nomme alors *constante magique* la valeur de ces sommes. \n",
    "\n",
    "Un exemple de carré magique:\n",
    "\n",
    "$$\\begin{bmatrix} 4 & 14 & 15 & 1 \\\\ 9 & 7 & 6 & 12 \\\\ 5 & 11 & 10 & 8 \\\\ 16 & 2 & 3 & 13 \\end{bmatrix}$$\n",
    "\n",
    "1. Sans écrire de programme, vérifier qu'il s'agit bien d'un carré magique, et donner sa constante magique.\n",
    "\n",
    "Les questions qui suivent doivent être traitées dans un script, qui peut s'appeler `carre_magique.py`. Pensez à utiliser [PythonTutor](http://pythontutor.com/) et les outils de programmation pour résoudre les problèmes qui pourraient survenir.\n",
    "\n",
    "2. Créer une liste à deux dimensions affectée à  la variable `carre_mag` contenant ce carré magique."
   ]
  },
  {
   "cell_type": "markdown",
   "metadata": {},
   "source": [
    "3. Créer une deuxième liste affectée à la variable `carre_pas_mag` qui ne soit pas magique à partir du carré magique en changeant le 3 en 7. "
   ]
  },
  {
   "cell_type": "markdown",
   "metadata": {},
   "source": [
    "4. Créer une fonction qui affiche la liste comme un carré."
   ]
  },
  {
   "cell_type": "code",
   "execution_count": 9,
   "metadata": {},
   "outputs": [
    {
     "name": "stdout",
     "output_type": "stream",
     "text": [
      "[[4, 14, 15, 1], [9, 7, 6, 12], [5, 11, 10, 8], [16, 2, 3, 13]]\n",
      "4  14 15 1  \n",
      "9  7  6  12 \n",
      "5  11 10 8  \n",
      "16 2  3  13 \n",
      "\n",
      "4  14 15 1  \n",
      "9  7  6  12 \n",
      "5  11 10 8  \n",
      "16 2  7  13 \n"
     ]
    }
   ],
   "source": [
    "L = [[0] * 4 for i in range(4)] #Crée une liste comportant 4 liste avec comme valeurs 0\n",
    "L[0][0], L[1][0], L[2][0], L[3][0] = 4, 9, 5, 16\n",
    "L[0][1], L[1][1], L[2][1], L[3][1] = 14, 7, 11, 2\n",
    "L[0][2], L[1][2], L[2][2], L[3][2] = 15, 6, 10, 3\n",
    "L[0][3], L[1][3], L[2][3], L[3][3] = 1, 12, 8, 13\n",
    "carre_mag = L\n",
    "L1 = [[0] * 4 for i in range(4)] #Crée une liste comportant 4 liste avec comme valeurs 0\n",
    "L1[0][0], L1[1][0], L1[2][0], L1[3][0] = 4, 9, 5, 16\n",
    "L1[0][1], L1[1][1], L1[2][1], L1[3][1] = 14, 7, 11, 2\n",
    "L1[0][2], L1[1][2], L1[2][2], L1[3][2] = 15, 6, 10, 7\n",
    "L1[0][3], L1[1][3], L1[2][3], L1[3][3] = 1, 12, 8, 13\n",
    "carre_pas_mag = L1\n",
    "print(carre_mag)\n",
    "\"\"\"carre_pas_mag = [i for i in carre_mag] #Permet de modifier carre_pas_mag sans modifier carre_mag\n",
    "carre_pas_mag[3][2] = 7\"\"\"\n",
    "\n",
    "\n",
    "\n",
    "def afficheCarre(carre):\n",
    "    \"\"\" Affiche la liste à 2 dimensions carre comme un carré\"\"\"\n",
    "    for i in range(4):\n",
    "        for j in carre[i]: \n",
    "            if j < 10 :\n",
    "                print(j, end = \"  \")\n",
    "            else:\n",
    "                print(j, end = \" \")\n",
    "        print(\"\")\n",
    "\n",
    "        \n",
    "\n",
    "afficheCarre(carre_mag)\n",
    "print(\"\")\n",
    "afficheCarre(carre_pas_mag)\n"
   ]
  },
  {
   "cell_type": "markdown",
   "metadata": {},
   "source": [
    "5. Ecrire une fonction qui teste si les lignes du carré ont toutes la même somme. Cette fonction renvoie cette somme si c'est le cas, et `-1` sinon."
   ]
  },
  {
   "cell_type": "code",
   "execution_count": 105,
   "metadata": {},
   "outputs": [
    {
     "name": "stdout",
     "output_type": "stream",
     "text": [
      "('La somme vaut', 34)\n",
      "-1\n"
     ]
    }
   ],
   "source": [
    "def testLignesEgales(carre):\n",
    "    \"\"\" Renvoie la somme des éléments d'une ligne de la liste 2D carre si toutes les lignes ont la même somme, et -1 sinon \"\"\"\n",
    "    sum_0 = 0\n",
    "    sum_1 = 0\n",
    "    sum_2 = 0\n",
    "    sum_3 = 0\n",
    "    for i in carre[0]:\n",
    "        sum_0 += i\n",
    "    for i in carre[1]:\n",
    "        sum_1 += i\n",
    "    for i in carre[2]:\n",
    "        sum_2 += i\n",
    "    for i in carre[3]:\n",
    "        sum_3 += i\n",
    "    if sum_0 == sum_1 == sum_2 == sum_3:\n",
    "        return (\"La somme vaut\", sum_0)\n",
    "    else:\n",
    "        return -1\n",
    "    \n",
    "    \n",
    "\n",
    "\n",
    "print(testLignesEgales(carre_mag))\n",
    "print(testLignesEgales(carre_pas_mag))\n"
   ]
  },
  {
   "cell_type": "markdown",
   "metadata": {},
   "source": [
    "6. Même question mais en testant les colonnes."
   ]
  },
  {
   "cell_type": "code",
   "execution_count": 106,
   "metadata": {},
   "outputs": [
    {
     "name": "stdout",
     "output_type": "stream",
     "text": [
      "('La somme vaut', 34)\n",
      "-1\n"
     ]
    }
   ],
   "source": [
    "def testColonnesEgales(carre):\n",
    "    \"\"\" Renvoie la somme des éléments d'une colonne de la liste 2D carre si toutes les colonnes ont la même somme, et -1 sinon \"\"\"\n",
    "    sum_0 = carre[0][0] + carre [1][0] + carre[2][0] + carre[3][0]\n",
    "    sum_1 = carre[0][1] + carre [1][1] + carre[2][1] + carre[3][1]\n",
    "    sum_2 = carre[0][2] + carre [1][2] + carre[2][2] + carre[3][2]\n",
    "    sum_3 = carre[0][3] + carre [1][3] + carre[2][3] + carre[3][3]\n",
    "    if sum_0 == sum_1 == sum_2 == sum_3:\n",
    "        return (\"La somme vaut\", sum_0)\n",
    "    else:\n",
    "        return -1\n",
    "\n",
    "print(testColonnesEgales(carre_mag))\n",
    "print(testColonnesEgales(carre_pas_mag))"
   ]
  },
  {
   "cell_type": "markdown",
   "metadata": {},
   "source": [
    "7. Même question mais en testant les 2 diagonales."
   ]
  },
  {
   "cell_type": "code",
   "execution_count": 107,
   "metadata": {},
   "outputs": [
    {
     "name": "stdout",
     "output_type": "stream",
     "text": [
      "('La somme vaut', 34)\n",
      "('La somme vaut', 34)\n"
     ]
    }
   ],
   "source": [
    "def testDiagonalesEgales(carre):\n",
    "    \"\"\" Renvoie la somme des éléments d'une diagonale de la liste 2D carre si les 2 diagonales ont la même somme, et -1 sinon \"\"\"\n",
    "    sum_0 = carre[0][0] + carre[1][1] + carre[2][2] + carre[3][3]\n",
    "    sum_1 = carre[0][3] + carre[1][2] + carre[2][1] + carre [3][0]\n",
    "    if sum_0 == sum_1:\n",
    "        return (\"La somme vaut\", sum_0)\n",
    "    else:\n",
    "        return -1\n",
    "\n",
    "\n",
    "print(testDiagonalesEgales(carre_mag))\n",
    "print(testDiagonalesEgales(carre_pas_mag))"
   ]
  },
  {
   "cell_type": "markdown",
   "metadata": {},
   "source": [
    "8. Créer une fonction qui teste si un carré est magique. Elle retourne `True` si c'est le cas et `False` sinon."
   ]
  },
  {
   "cell_type": "code",
   "execution_count": 109,
   "metadata": {},
   "outputs": [
    {
     "name": "stdout",
     "output_type": "stream",
     "text": [
      "True\n",
      "False\n"
     ]
    }
   ],
   "source": [
    "def estCarreMagique(carre):\n",
    "    \"\"\" Renvoie True si c'est un carre magique et False sinon\"\"\"\n",
    "    if testLignesEgales(carre) == -1 or testColonnesEgales(carre) == - 1 or testDiagonalesEgales(carre) == -1:\n",
    "        return False\n",
    "    else:\n",
    "        return True\n",
    "\n",
    "print(estCarreMagique(carre_mag))\n",
    "print(estCarreMagique(carre_pas_mag))"
   ]
  },
  {
   "cell_type": "markdown",
   "metadata": {},
   "source": [
    "9. Un carré d'ordre $n$ est *normal* s'il contient tous les entiers de 1 à $n^2$. Ecrire une fonction qui teste si un carré est normal (pas nécessairement magique)."
   ]
  },
  {
   "cell_type": "code",
   "execution_count": 110,
   "metadata": {},
   "outputs": [
    {
     "name": "stdout",
     "output_type": "stream",
     "text": [
      "True\n",
      "False\n"
     ]
    }
   ],
   "source": [
    "def estNormal(carre):\n",
    "    \"\"\" Retourne True si contient toutes les valeurs de 1 à n^2 où n est la taille \n",
    "        du carré, et False sinon \"\"\"\n",
    "    n = len(carre)\n",
    "    s = 0\n",
    "    liste_triee = []\n",
    "    for a in range (0, 4):\n",
    "        for b in range (0, 4):\n",
    "            liste_triee.append(carre[a][b])\n",
    "    liste_triee.sort()\n",
    "    for x in range(1, n ** 2 + 1):\n",
    "        if x in liste_triee:\n",
    "            s += 1\n",
    "    if s == n**2:\n",
    "        return True\n",
    "    else:\n",
    "        return False\n",
    "\n",
    "print(estNormal(carre_mag))\n",
    "print(estNormal(carre_pas_mag))"
   ]
  },
  {
   "cell_type": "code",
   "execution_count": null,
   "metadata": {},
   "outputs": [],
   "source": []
  }
 ],
 "metadata": {
  "kernelspec": {
   "display_name": "Python 3.9.13 ('base')",
   "language": "python",
   "name": "python3"
  },
  "language_info": {
   "codemirror_mode": {
    "name": "ipython",
    "version": 3
   },
   "file_extension": ".py",
   "mimetype": "text/x-python",
   "name": "python",
   "nbconvert_exporter": "python",
   "pygments_lexer": "ipython3",
   "version": "3.9.13"
  },
  "vscode": {
   "interpreter": {
    "hash": "7d6a2f910f3120818214ce2f32b4e8173aa196704add3801970501477204c05e"
   }
  }
 },
 "nbformat": 4,
 "nbformat_minor": 1
}
